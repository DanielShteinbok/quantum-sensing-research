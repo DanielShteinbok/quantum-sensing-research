{
 "cells": [
  {
   "cell_type": "markdown",
   "id": "43e076fc",
   "metadata": {},
   "source": [
    "# Heterodyne Measurements\n",
    "\n",
    "The goal of this is to try to perform heterodyne measurements for states in the Fock basis with Xanadu's Strawberry Fields. Xanadu's Fock basis does not provide a way to perform heterodyne measurement in the Fock basis, but since it seems like this is applying the following operator: $\\frac{1}{\\pi}|\\alpha><\\alpha|\\psi>$. If I am not mistaken, $<\\alpha|\\psi>$ should produce some scalar $x$, so the entire thing should produce $\\frac{x}{\\pi}|\\alpha>$. The only observable component is $\\frac{x}{\\pi}$, so all we should be interested in finding is $\\frac{x}{\\pi} = \\frac{<\\alpha|\\psi>}{\\pi}$, which should be doable by scalar multiplication of the two."
   ]
  },
  {
   "cell_type": "code",
   "execution_count": 1,
   "id": "c14657ba",
   "metadata": {},
   "outputs": [],
   "source": [
    "import strawberryfields as sf\n",
    "from strawberryfields.ops import *\n",
    "\n",
    "import numpy as np"
   ]
  },
  {
   "cell_type": "code",
   "execution_count": 24,
   "id": "ae2ed04e",
   "metadata": {},
   "outputs": [],
   "source": [
    "alpha = 1+0.5j\n",
    "r = np.abs(alpha)\n",
    "phi = np.angle(alpha)\n",
    "\n",
    "prog = sf.Program(2) # two modes: the one we're interested in, and the \n",
    "with prog.context as q:\n",
    "    Coherent() | q[0]\n",
    "    Coherent(r,phi) | q[1] # this is the state we care about finding\n",
    "\n",
    "eng = sf.Engine('fock', backend_options={\"cutoff_dim\": 15})\n",
    "result = eng.run(prog, shots=1, modes=None, compile_options={})\n",
    "state = result.state\n",
    "\n",
    "# The above is one circuit, it yields a 15x15x15x15 matrix. \n",
    "# Instead, we could use two circuits and get 2 15x15 matrices.\n"
   ]
  },
  {
   "cell_type": "code",
   "execution_count": 31,
   "id": "0cd233a2",
   "metadata": {},
   "outputs": [
    {
     "data": {
      "text/plain": [
       "array([[0.2865048+0.j, 0.       +0.j, 0.       +0.j, 0.       +0.j,\n",
       "        0.       +0.j, 0.       +0.j, 0.       +0.j, 0.       +0.j,\n",
       "        0.       +0.j, 0.       +0.j, 0.       +0.j, 0.       +0.j,\n",
       "        0.       +0.j, 0.       +0.j, 0.       +0.j],\n",
       "       [0.       +0.j, 0.       +0.j, 0.       +0.j, 0.       +0.j,\n",
       "        0.       +0.j, 0.       +0.j, 0.       +0.j, 0.       +0.j,\n",
       "        0.       +0.j, 0.       +0.j, 0.       +0.j, 0.       +0.j,\n",
       "        0.       +0.j, 0.       +0.j, 0.       +0.j],\n",
       "       [0.       +0.j, 0.       +0.j, 0.       +0.j, 0.       +0.j,\n",
       "        0.       +0.j, 0.       +0.j, 0.       +0.j, 0.       +0.j,\n",
       "        0.       +0.j, 0.       +0.j, 0.       +0.j, 0.       +0.j,\n",
       "        0.       +0.j, 0.       +0.j, 0.       +0.j],\n",
       "       [0.       +0.j, 0.       +0.j, 0.       +0.j, 0.       +0.j,\n",
       "        0.       +0.j, 0.       +0.j, 0.       +0.j, 0.       +0.j,\n",
       "        0.       +0.j, 0.       +0.j, 0.       +0.j, 0.       +0.j,\n",
       "        0.       +0.j, 0.       +0.j, 0.       +0.j],\n",
       "       [0.       +0.j, 0.       +0.j, 0.       +0.j, 0.       +0.j,\n",
       "        0.       +0.j, 0.       +0.j, 0.       +0.j, 0.       +0.j,\n",
       "        0.       +0.j, 0.       +0.j, 0.       +0.j, 0.       +0.j,\n",
       "        0.       +0.j, 0.       +0.j, 0.       +0.j],\n",
       "       [0.       +0.j, 0.       +0.j, 0.       +0.j, 0.       +0.j,\n",
       "        0.       +0.j, 0.       +0.j, 0.       +0.j, 0.       +0.j,\n",
       "        0.       +0.j, 0.       +0.j, 0.       +0.j, 0.       +0.j,\n",
       "        0.       +0.j, 0.       +0.j, 0.       +0.j],\n",
       "       [0.       +0.j, 0.       +0.j, 0.       +0.j, 0.       +0.j,\n",
       "        0.       +0.j, 0.       +0.j, 0.       +0.j, 0.       +0.j,\n",
       "        0.       +0.j, 0.       +0.j, 0.       +0.j, 0.       +0.j,\n",
       "        0.       +0.j, 0.       +0.j, 0.       +0.j],\n",
       "       [0.       +0.j, 0.       +0.j, 0.       +0.j, 0.       +0.j,\n",
       "        0.       +0.j, 0.       +0.j, 0.       +0.j, 0.       +0.j,\n",
       "        0.       +0.j, 0.       +0.j, 0.       +0.j, 0.       +0.j,\n",
       "        0.       +0.j, 0.       +0.j, 0.       +0.j],\n",
       "       [0.       +0.j, 0.       +0.j, 0.       +0.j, 0.       +0.j,\n",
       "        0.       +0.j, 0.       +0.j, 0.       +0.j, 0.       +0.j,\n",
       "        0.       +0.j, 0.       +0.j, 0.       +0.j, 0.       +0.j,\n",
       "        0.       +0.j, 0.       +0.j, 0.       +0.j],\n",
       "       [0.       +0.j, 0.       +0.j, 0.       +0.j, 0.       +0.j,\n",
       "        0.       +0.j, 0.       +0.j, 0.       +0.j, 0.       +0.j,\n",
       "        0.       +0.j, 0.       +0.j, 0.       +0.j, 0.       +0.j,\n",
       "        0.       +0.j, 0.       +0.j, 0.       +0.j],\n",
       "       [0.       +0.j, 0.       +0.j, 0.       +0.j, 0.       +0.j,\n",
       "        0.       +0.j, 0.       +0.j, 0.       +0.j, 0.       +0.j,\n",
       "        0.       +0.j, 0.       +0.j, 0.       +0.j, 0.       +0.j,\n",
       "        0.       +0.j, 0.       +0.j, 0.       +0.j],\n",
       "       [0.       +0.j, 0.       +0.j, 0.       +0.j, 0.       +0.j,\n",
       "        0.       +0.j, 0.       +0.j, 0.       +0.j, 0.       +0.j,\n",
       "        0.       +0.j, 0.       +0.j, 0.       +0.j, 0.       +0.j,\n",
       "        0.       +0.j, 0.       +0.j, 0.       +0.j],\n",
       "       [0.       +0.j, 0.       +0.j, 0.       +0.j, 0.       +0.j,\n",
       "        0.       +0.j, 0.       +0.j, 0.       +0.j, 0.       +0.j,\n",
       "        0.       +0.j, 0.       +0.j, 0.       +0.j, 0.       +0.j,\n",
       "        0.       +0.j, 0.       +0.j, 0.       +0.j],\n",
       "       [0.       +0.j, 0.       +0.j, 0.       +0.j, 0.       +0.j,\n",
       "        0.       +0.j, 0.       +0.j, 0.       +0.j, 0.       +0.j,\n",
       "        0.       +0.j, 0.       +0.j, 0.       +0.j, 0.       +0.j,\n",
       "        0.       +0.j, 0.       +0.j, 0.       +0.j],\n",
       "       [0.       +0.j, 0.       +0.j, 0.       +0.j, 0.       +0.j,\n",
       "        0.       +0.j, 0.       +0.j, 0.       +0.j, 0.       +0.j,\n",
       "        0.       +0.j, 0.       +0.j, 0.       +0.j, 0.       +0.j,\n",
       "        0.       +0.j, 0.       +0.j, 0.       +0.j]])"
      ]
     },
     "execution_count": 31,
     "metadata": {},
     "output_type": "execute_result"
    }
   ],
   "source": [
    "rho2 = np.einsum(\"ijij->ij\", state.dm())\n",
    "rho2h"
   ]
  },
  {
   "cell_type": "code",
   "execution_count": 44,
   "id": "a8b5b44b",
   "metadata": {},
   "outputs": [],
   "source": [
    "# two different circuits: \n",
    "prog1 = sf.Program(1) # two modes: the one we're interested in, and the \n",
    "prog2 = sf.Program(1)\n",
    "with prog1.context as q:\n",
    "    Coherent() | q[0]\n",
    "    \n",
    "with prog2.context as q:\n",
    "    Coherent(r,phi) | q[0] # this is the state we care about finding\n",
    "    \n",
    "\n",
    "eng = sf.Engine('fock', backend_options={\"cutoff_dim\": 15})\n",
    "result1 = eng.run(prog1)\n",
    "result2 = eng.run(prog2)\n",
    "\n",
    "state1 = result1.state\n",
    "state2 = result2.state"
   ]
  },
  {
   "cell_type": "code",
   "execution_count": 45,
   "id": "8ca29051",
   "metadata": {},
   "outputs": [
    {
     "data": {
      "text/plain": [
       "(15, 15)"
      ]
     },
     "execution_count": 45,
     "metadata": {},
     "output_type": "execute_result"
    }
   ],
   "source": [
    "state1.dm().shape"
   ]
  },
  {
   "cell_type": "code",
   "execution_count": 39,
   "id": "b9165120",
   "metadata": {},
   "outputs": [],
   "source": [
    "mult = state1.dm()*state2.dm()"
   ]
  },
  {
   "cell_type": "code",
   "execution_count": 42,
   "id": "bfb5c1a9",
   "metadata": {},
   "outputs": [
    {
     "data": {
      "text/plain": [
       "(15, 15)"
      ]
     },
     "execution_count": 42,
     "metadata": {},
     "output_type": "execute_result"
    }
   ],
   "source": [
    "mult.shape"
   ]
  },
  {
   "cell_type": "code",
   "execution_count": 43,
   "id": "3cc64388",
   "metadata": {},
   "outputs": [
    {
     "data": {
      "text/plain": [
       "array([[ 0.2865048+0.j,  0.       +0.j,  0.       +0.j,  0.       +0.j,\n",
       "         0.       -0.j,  0.       -0.j,  0.       -0.j, -0.       +0.j,\n",
       "        -0.       +0.j, -0.       +0.j, -0.       +0.j,  0.       +0.j,\n",
       "         0.       +0.j,  0.       +0.j,  0.       +0.j],\n",
       "       [ 0.       +0.j,  0.       +0.j,  0.       +0.j,  0.       +0.j,\n",
       "         0.       +0.j,  0.       -0.j,  0.       -0.j,  0.       -0.j,\n",
       "        -0.       +0.j, -0.       +0.j, -0.       +0.j, -0.       +0.j,\n",
       "         0.       +0.j,  0.       +0.j,  0.       +0.j],\n",
       "       [ 0.       +0.j,  0.       +0.j,  0.       +0.j,  0.       +0.j,\n",
       "         0.       +0.j,  0.       +0.j,  0.       -0.j,  0.       -0.j,\n",
       "         0.       -0.j, -0.       +0.j, -0.       +0.j, -0.       +0.j,\n",
       "        -0.       +0.j,  0.       +0.j,  0.       +0.j],\n",
       "       [ 0.       +0.j,  0.       +0.j,  0.       +0.j,  0.       +0.j,\n",
       "         0.       +0.j,  0.       +0.j,  0.       +0.j,  0.       -0.j,\n",
       "         0.       -0.j,  0.       -0.j, -0.       +0.j, -0.       +0.j,\n",
       "        -0.       +0.j, -0.       +0.j,  0.       +0.j],\n",
       "       [-0.       +0.j,  0.       +0.j,  0.       +0.j,  0.       +0.j,\n",
       "         0.       +0.j,  0.       +0.j,  0.       +0.j,  0.       +0.j,\n",
       "         0.       -0.j,  0.       -0.j,  0.       -0.j, -0.       +0.j,\n",
       "        -0.       +0.j, -0.       +0.j, -0.       +0.j],\n",
       "       [-0.       +0.j, -0.       +0.j,  0.       +0.j,  0.       +0.j,\n",
       "         0.       +0.j,  0.       +0.j,  0.       +0.j,  0.       +0.j,\n",
       "         0.       +0.j,  0.       -0.j,  0.       -0.j,  0.       -0.j,\n",
       "        -0.       +0.j, -0.       +0.j, -0.       +0.j],\n",
       "       [-0.       +0.j, -0.       +0.j, -0.       +0.j,  0.       +0.j,\n",
       "         0.       +0.j,  0.       +0.j,  0.       +0.j,  0.       +0.j,\n",
       "         0.       +0.j,  0.       +0.j,  0.       -0.j,  0.       -0.j,\n",
       "         0.       -0.j, -0.       +0.j, -0.       +0.j],\n",
       "       [ 0.       -0.j, -0.       +0.j, -0.       +0.j, -0.       +0.j,\n",
       "         0.       +0.j,  0.       +0.j,  0.       +0.j,  0.       +0.j,\n",
       "         0.       +0.j,  0.       +0.j,  0.       +0.j,  0.       -0.j,\n",
       "         0.       -0.j,  0.       -0.j, -0.       +0.j],\n",
       "       [ 0.       -0.j,  0.       -0.j, -0.       +0.j, -0.       +0.j,\n",
       "        -0.       +0.j,  0.       +0.j,  0.       +0.j,  0.       +0.j,\n",
       "         0.       +0.j,  0.       +0.j,  0.       +0.j,  0.       +0.j,\n",
       "         0.       -0.j,  0.       -0.j,  0.       -0.j],\n",
       "       [ 0.       -0.j,  0.       -0.j,  0.       -0.j, -0.       +0.j,\n",
       "        -0.       +0.j, -0.       +0.j,  0.       +0.j,  0.       +0.j,\n",
       "         0.       +0.j,  0.       +0.j,  0.       +0.j,  0.       +0.j,\n",
       "         0.       +0.j,  0.       -0.j,  0.       -0.j],\n",
       "       [ 0.       -0.j,  0.       -0.j,  0.       -0.j,  0.       -0.j,\n",
       "        -0.       +0.j, -0.       +0.j, -0.       +0.j,  0.       +0.j,\n",
       "         0.       +0.j,  0.       +0.j,  0.       +0.j,  0.       +0.j,\n",
       "         0.       +0.j,  0.       +0.j,  0.       -0.j],\n",
       "       [ 0.       +0.j,  0.       -0.j,  0.       -0.j,  0.       -0.j,\n",
       "         0.       -0.j, -0.       +0.j, -0.       +0.j, -0.       +0.j,\n",
       "         0.       +0.j,  0.       +0.j,  0.       +0.j,  0.       +0.j,\n",
       "         0.       +0.j,  0.       +0.j,  0.       +0.j],\n",
       "       [ 0.       +0.j,  0.       +0.j,  0.       -0.j,  0.       -0.j,\n",
       "         0.       -0.j,  0.       -0.j, -0.       +0.j, -0.       +0.j,\n",
       "        -0.       +0.j,  0.       +0.j,  0.       +0.j,  0.       +0.j,\n",
       "         0.       +0.j,  0.       +0.j,  0.       +0.j],\n",
       "       [ 0.       +0.j,  0.       +0.j,  0.       +0.j,  0.       -0.j,\n",
       "         0.       -0.j,  0.       -0.j,  0.       -0.j, -0.       +0.j,\n",
       "        -0.       +0.j, -0.       +0.j,  0.       +0.j,  0.       +0.j,\n",
       "         0.       +0.j,  0.       +0.j,  0.       +0.j],\n",
       "       [ 0.       +0.j,  0.       +0.j,  0.       +0.j,  0.       +0.j,\n",
       "         0.       -0.j,  0.       -0.j,  0.       -0.j,  0.       -0.j,\n",
       "        -0.       +0.j, -0.       +0.j, -0.       +0.j,  0.       +0.j,\n",
       "         0.       +0.j,  0.       +0.j,  0.       +0.j]])"
      ]
     },
     "execution_count": 43,
     "metadata": {},
     "output_type": "execute_result"
    }
   ],
   "source": [
    "mult"
   ]
  }
 ],
 "metadata": {
  "kernelspec": {
   "display_name": "env",
   "language": "python",
   "name": "env"
  },
  "language_info": {
   "codemirror_mode": {
    "name": "ipython",
    "version": 3
   },
   "file_extension": ".py",
   "mimetype": "text/x-python",
   "name": "python",
   "nbconvert_exporter": "python",
   "pygments_lexer": "ipython3",
   "version": "3.9.7"
  }
 },
 "nbformat": 4,
 "nbformat_minor": 5
}
