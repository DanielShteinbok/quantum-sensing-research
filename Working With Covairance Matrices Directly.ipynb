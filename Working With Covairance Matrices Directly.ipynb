{
 "cells": [
  {
   "cell_type": "markdown",
   "id": "cb2667b1",
   "metadata": {},
   "source": [
    "# Working with covariance matrices directly\n",
    "A commonly used backend is the Bosonic backend. The Gaussian backend is known to use covariance matrices, which are accessible from the states directly. The bosonic backend can be used to describe superpositions of Gaussian states, so it may be possible that it uses covariance matrices as well. This will be investigated by creating states and querying their covariance matrices, etc."
   ]
  }
 ],
 "metadata": {
  "kernelspec": {
   "display_name": "env",
   "language": "python",
   "name": "env"
  },
  "language_info": {
   "codemirror_mode": {
    "name": "ipython",
    "version": 3
   },
   "file_extension": ".py",
   "mimetype": "text/x-python",
   "name": "python",
   "nbconvert_exporter": "python",
   "pygments_lexer": "ipython3",
   "version": "3.9.7"
  }
 },
 "nbformat": 4,
 "nbformat_minor": 5
}
