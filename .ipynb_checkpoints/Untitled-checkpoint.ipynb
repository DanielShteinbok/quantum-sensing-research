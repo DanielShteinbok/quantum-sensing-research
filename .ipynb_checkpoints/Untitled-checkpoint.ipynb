{
 "cells": [
  {
   "cell_type": "code",
   "execution_count": 2,
   "id": "e7af10d8",
   "metadata": {},
   "outputs": [],
   "source": [
    "import strawberryfields as sf\n",
    "import numpy as np\n",
    "import matplotlib.pyplot as plt\n",
    "import matplotlib as mpl\n",
    "from matplotlib import cm\n",
    "#import h5py\n",
    "#from datetime import datetime\n",
    "#import seaborn as sns\n",
    "#from utility import *"
   ]
  },
  {
   "cell_type": "code",
   "execution_count": 14,
   "id": "cf836fac",
   "metadata": {},
   "outputs": [],
   "source": [
    "def OneModeCoherentHO(a,p,shots):\n",
    "    \"\"\"\n",
    "    Function that performs sensing using a single coherent state and performing homodyne measurements\n",
    "    \n",
    "    Args:\n",
    "    \n",
    "        Ns (float) : Average number of photons in the #1 mode\n",
    "        t,nth (float,float) : channel transmittivity and number of thermal photons for the thermal loss channel\n",
    "        shots (integer) : number of repeated iid measurements to perform\n",
    "    \n",
    "    Returns:\n",
    "    \n",
    "        list, list (complex,complex): returns the complex signal <X>+i<P> of both modes\n",
    "    \"\"\"\n",
    "    s1 = np.zeros(shots)\n",
    "    \n",
    "    for i in range(shots):\n",
    "        prog= sf.Program(1)\n",
    "        \n",
    "        with prog.context as q:\n",
    "            sf.ops.Coherent(a,p) | q[0] # State preparation\n",
    "            sf.ops.MeasureX | q[0] # Het. Msmnt of signal 1\n",
    "\n",
    "        # Need to run twice because of bug in the bosonic backend in dealing with repeated HD measurements\n",
    "    \n",
    "        eng = sf.Engine(\"bosonic\")\n",
    "        results = eng.run(prog)\n",
    "    \n",
    "        #Collecting the samples\n",
    "        samples = results.all_samples\n",
    "    \n",
    "        #Creating the measurement records\n",
    "        s1[i] = samples[0][0]\n",
    "    \n",
    "    # Interation over number of shots is done, outputing the records\n",
    "    \n",
    "    return s1\n"
   ]
  },
  {
   "cell_type": "code",
   "execution_count": null,
   "id": "d1c072cb",
   "metadata": {},
   "outputs": [],
   "source": []
  },
  {
   "cell_type": "code",
   "execution_count": null,
   "id": "2cc8bfaa",
   "metadata": {},
   "outputs": [],
   "source": [
    "sample_set = np.zeros(1000)\n",
    "for i in range(sample_set.size):\n",
    "    sample_set.put(i,OneModeCoherentHO(1, 0, 30))\n",
    "    \n",
    "print(sample_set)\n",
    "plt.hist(sample_set,bins=100)\n",
    "plt.show"
   ]
  }
 ],
 "metadata": {
  "kernelspec": {
   "display_name": "env",
   "language": "python",
   "name": "env"
  },
  "language_info": {
   "codemirror_mode": {
    "name": "ipython",
    "version": 3
   },
   "file_extension": ".py",
   "mimetype": "text/x-python",
   "name": "python",
   "nbconvert_exporter": "python",
   "pygments_lexer": "ipython3",
   "version": "3.9.7"
  }
 },
 "nbformat": 4,
 "nbformat_minor": 5
}
