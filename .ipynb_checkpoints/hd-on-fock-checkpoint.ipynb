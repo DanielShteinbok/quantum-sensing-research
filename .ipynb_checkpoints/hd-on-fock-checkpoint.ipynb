{
 "cells": [
  {
   "cell_type": "markdown",
   "id": "28499892",
   "metadata": {},
   "source": [
    "# Heterodyne Measurements\n",
    "\n",
    "The goal of this is to try to perform heterodyne measurements for states in the Fock basis with Xanadu's Strawberry Fields. Xanadu's Fock basis does not provide a way to perform heterodyne measurement in the Fock basis, but since it seems like this is applying the following operator: $\\frac{1}{\\pi}|\\alpha><\\alpha|\\psi>$. If I am not mistaken, $<\\alpha|\\psi>$ should produce some scalar $x$, so the entire thing should produce $\\frac{x}{\\pi}|\\alpha>$. The only observable component is $\\frac{x}{\\pi}$, so all we should be interested in finding is $\\frac{x}{\\pi} = \\frac{<\\alpha|\\psi>}{\\pi}$, which should be doable by scalar multiplication of the two."
   ]
  },
  {
   "cell_type": "code",
   "execution_count": 1,
   "id": "731ab120",
   "metadata": {},
   "outputs": [],
   "source": [
    "import strawberryfields as sf\n",
    "from strawberryfields.ops import *\n",
    "\n",
    "import numpy as np"
   ]
  },
  {
   "cell_type": "code",
   "execution_count": 5,
   "id": "176b9716",
   "metadata": {},
   "outputs": [
    {
     "name": "stderr",
     "output_type": "stream",
     "text": [
      "/home/daniel/strawberryfields/env/lib/python3.9/site-packages/strawberryfields/program.py:618: UserWarning: The circuit consists of 2 disconnected components.\n"
     ]
    }
   ],
   "source": [
    "prog = sf.Program(2) # two modes: the one we're interested in, and the \n",
    "with prog.context as q:\n",
    "    Vac | q[0]\n",
    "    Fock(1) | q[1] # this is the state we care about finding\n",
    "\n",
    "eng = sf.Engine('fock', backend_options={\"cutoff_dim\": 15})\n",
    "result = eng.run(prog, shots=1, modes=None, compile_options={})\n",
    "state = result.state\n",
    "\n",
    "    \n"
   ]
  },
  {
   "cell_type": "code",
   "execution_count": null,
   "id": "9340050a",
   "metadata": {},
   "outputs": [],
   "source": []
  }
 ],
 "metadata": {
  "kernelspec": {
   "display_name": "env",
   "language": "python",
   "name": "env"
  },
  "language_info": {
   "codemirror_mode": {
    "name": "ipython",
    "version": 3
   },
   "file_extension": ".py",
   "mimetype": "text/x-python",
   "name": "python",
   "nbconvert_exporter": "python",
   "pygments_lexer": "ipython3",
   "version": "3.9.7"
  }
 },
 "nbformat": 4,
 "nbformat_minor": 5
}
