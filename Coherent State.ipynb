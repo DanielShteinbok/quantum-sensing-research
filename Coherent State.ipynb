{
 "cells": [
  {
   "cell_type": "markdown",
   "id": "8b4e0f18",
   "metadata": {},
   "source": [
    "# Coherent State\n",
    "A single mode coherent state"
   ]
  },
  {
   "cell_type": "code",
   "execution_count": 6,
   "id": "38ed99a7",
   "metadata": {},
   "outputs": [],
   "source": [
    "# import statements for stuff below\n",
    "import strawberryfields as sf\n",
    "import numpy as np"
   ]
  },
  {
   "cell_type": "code",
   "execution_count": 13,
   "id": "8500d07c",
   "metadata": {},
   "outputs": [
    {
     "name": "stdout",
     "output_type": "stream",
     "text": [
      "<Result: shots=1, num_modes=1, contains state=True>\n",
      "0\n"
     ]
    }
   ],
   "source": [
    "# create the circuit with a single mode\n",
    "prog = sf.Program(1)\n",
    "\n",
    "# we are doing a coherent state with \n",
    "with prog.context as q:\n",
    "    sf.ops.Coherent() | q[0]\n",
    "    sf.ops.MeasureHD | q[0]\n",
    "    \n",
    "eng = sf.Engine(\"gaussian\")\n",
    "results = eng.run(prog)\n",
    "\n",
    "print(results)\n",
    "for sample in results.all_samples:\n",
    "    print(sample)\n",
    "    \n"
   ]
  },
  {
   "cell_type": "code",
   "execution_count": 14,
   "id": "4b48c730",
   "metadata": {},
   "outputs": [
    {
     "name": "stdout",
     "output_type": "stream",
     "text": [
      "<Result: shots=1, num_modes=1, num_ancillae=0, contains state=True>\n",
      "0\n"
     ]
    }
   ],
   "source": [
    "# now, let's try the same thing with a bosonic backend\n",
    "eng_b = sf.Engine(\"bosonic\")\n",
    "results = eng_b.run(prog)\n",
    "\n",
    "print(results)\n",
    "for sample in results.all_samples:\n",
    "    print(sample)\n",
    "# ooga booga it seems 2 werk"
   ]
  }
 ],
 "metadata": {
  "kernelspec": {
   "display_name": "env",
   "language": "python",
   "name": "env"
  },
  "language_info": {
   "codemirror_mode": {
    "name": "ipython",
    "version": 3
   },
   "file_extension": ".py",
   "mimetype": "text/x-python",
   "name": "python",
   "nbconvert_exporter": "python",
   "pygments_lexer": "ipython3",
   "version": "3.9.7"
  }
 },
 "nbformat": 4,
 "nbformat_minor": 5
}
